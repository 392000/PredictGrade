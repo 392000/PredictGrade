{
 "cells": [
  {
   "cell_type": "code",
   "execution_count": null,
   "metadata": {},
   "outputs": [],
   "source": [
    "# app.py\n",
    "import streamlit as st\n",
    "\n",
    "# Title\n",
    "st.title(\"My First Streamlit App\")\n",
    "\n",
    "# Text\n",
    "st.write(\"Welcome to my first Streamlit app! Feel free to interact with the elements below.\")\n",
    "\n",
    "# Input form\n",
    "name = st.text_input(\"Enter your name:\")\n",
    "age = st.number_input(\"Enter your age:\", min_value=1, max_value=100, value=18)\n",
    "\n",
    "# Button interaction\n",
    "if st.button(\"Submit\"):\n",
    "    if name:\n",
    "        st.success(f\"Hello, {name}! You are {age} years old.\")\n",
    "    else:\n",
    "        st.warning(\"Please enter your name!\")\n",
    "\n",
    "# Sidebar\n",
    "st.sidebar.title(\"About\")\n",
    "st.sidebar.write(\"This is a basic Streamlit app example.\")\n"
   ]
  }
 ],
 "metadata": {
  "language_info": {
   "name": "python"
  },
  "orig_nbformat": 4
 },
 "nbformat": 4,
 "nbformat_minor": 2
}
